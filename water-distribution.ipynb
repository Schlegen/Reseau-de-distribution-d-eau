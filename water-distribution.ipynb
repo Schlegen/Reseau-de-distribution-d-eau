{
 "cells": [
  {
   "cell_type": "markdown",
   "metadata": {},
   "source": [
    "# Determiner la distribution d'un réseau d'eau"
   ]
  },
  {
   "cell_type": "code",
   "execution_count": 27,
   "metadata": {},
   "outputs": [],
   "source": [
    "import numpy as np\n",
    "\n",
    "# Import des données du problème\n",
    "from TP_OC.Python.Probleme_R import n, m, mr, md, orig, dest, absn, ordn, r, pr, fd\n",
    "from TP_OC.Python.Structures_N import Ar, Ad, AdT, AdI, AdC, B, q0"
   ]
  },
  {
   "cell_type": "markdown",
   "metadata": {},
   "source": [
    "On remarque que dans la fonction à minimser, $q_c$ n'apparait que dans des structures de la forme $q^{(0)}+Bq_c$ donc on pose $ Q = q^{(0)} + Bq_c$"
   ]
  },
  {
   "cell_type": "code",
   "execution_count": 28,
   "metadata": {},
   "outputs": [],
   "source": [
    "def F(q_c):\n",
    "    Q = q0 + np.dot(B, q_c)\n",
    "    return((1/3)* (np.dot(Q, r * Q * abs(Q)) + np.dot(pr, np.dot(Ar, Q))))"
   ]
  },
  {
   "cell_type": "markdown",
   "metadata": {},
   "source": [
    "En calculant F(x+h) au second ordre en h, on obtient le gradient et la hessienne de F"
   ]
  },
  {
   "cell_type": "code",
   "execution_count": 105,
   "metadata": {},
   "outputs": [],
   "source": [
    "def grad_F(q_c):\n",
    "    \"\"\"\n",
    "    Peut-être rajouter un terme à multiplier pour la règle de la chaîne\n",
    "    \"\"\"\n",
    "    Q = q0 + np.dot(B, q_c)\n",
    "    return np.dot(np.transpose(B), r*Q*abs(Q)) + np.dot(np.transpose(np.dot(Ar, B)), pr)"
   ]
  },
  {
   "cell_type": "code",
   "execution_count": 106,
   "metadata": {},
   "outputs": [],
   "source": [
    "def oraclePG(q_c, ind=4):\n",
    "    if ind == 2 :\n",
    "        return F(q_c)\n",
    "    elif ind == 3 :\n",
    "        return grad_F(q_c)\n",
    "    elif ind == 4:\n",
    "        return F(q_c), grad_F(q_c)"
   ]
  },
  {
   "cell_type": "markdown",
   "metadata": {},
   "source": [
    "On test sur l'oracle."
   ]
  },
  {
   "cell_type": "code",
   "execution_count": 107,
   "metadata": {},
   "outputs": [
    {
     "name": "stdout",
     "output_type": "stream",
     "text": [
      "\n",
      "Iteration : 4187\n",
      "Temps CPU : 0.13647155600000005\n",
      "Critere optimal : 7.936228345753166\n",
      "Norme du gradient : 9.974936210514598e-07\n"
     ]
    },
    {
     "data": {
      "image/png": "[encoded data removed]",
      "text/plain": [
       "<Figure size 432x288 with 2 Axes>"
      ]
     },
     "metadata": {
      "needs_background": "light"
     },
     "output_type": "display_data"
    },
    {
     "data": {
      "text/plain": [
       "(7.936228345753166,\n",
       " array([-9.97488707e-07,  2.10134787e-09, -1.49918744e-10,  2.89155366e-11,\n",
       "        -2.11820428e-09, -1.84091853e-10, -6.67473188e-10, -9.06141828e-11,\n",
       "         6.24779339e-10]),\n",
       " array([ 0.31167056, -0.01749637,  0.16279675,  0.4306519 ,  0.03817885,\n",
       "        -0.01562977, -0.15147633, -0.11908204,  0.18404951]))"
      ]
     },
     "execution_count": 107,
     "metadata": {},
     "output_type": "execute_result"
    }
   ],
   "source": [
    "from TP_OC.Python.Gradient_F import Gradient_F\n",
    "Gradient_F(oraclePG, np.zeros(n - md))"
   ]
  },
  {
   "cell_type": "code",
   "execution_count": 85,
   "metadata": {},
   "outputs": [],
   "source": [
    "def Hess_F(q_c):\n",
    "    Q = q0 + np.dot(B, q_c)\n",
    "    return 2 * np.dot(\n",
    "                    np.dot(\n",
    "                        np.transpose(B),\n",
    "                        np.diag(np.diag(r * abs(Q))),\n",
    "                    B)\n",
    "    )"
   ]
  },
  {
   "cell_type": "code",
   "execution_count": 80,
   "metadata": {},
   "outputs": [],
   "source": [
    "def oraclePH(q_c, ind=7):\n",
    "    if ind == 2:\n",
    "        return F(q_c)\n",
    "    elif ind == 3:\n",
    "        return grad_F(q_c)\n",
    "    elif ind == 4:\n",
    "        return F(q_c), grad_F(q_c)\n",
    "    elif ind == 5:\n",
    "        return Hess_F(q_c)\n",
    "    elif ind == 6:\n",
    "        return grad_F(q_c), Hess_F(q_c)\n",
    "    elif ind == 7:\n",
    "        return F(q_c), grad_F(q_c), Hess_F(q_c)"
   ]
  },
  {
   "cell_type": "code",
   "execution_count": 81,
   "metadata": {},
   "outputs": [
    {
     "ename": "ValueError",
     "evalue": "output array is not acceptable (must have the right datatype, number of dimensions, and be a C-Array)",
     "output_type": "error",
     "traceback": [
      "\u001b[0;31m---------------------------------------------------------------------------\u001b[0m",
      "\u001b[0;31mValueError\u001b[0m                                Traceback (most recent call last)",
      "\u001b[0;32m<ipython-input-81-d4da3ac67c9a>\u001b[0m in \u001b[0;36m<module>\u001b[0;34m\u001b[0m\n\u001b[1;32m      1\u001b[0m \u001b[0;32mfrom\u001b[0m \u001b[0mTP_OC\u001b[0m\u001b[0;34m.\u001b[0m\u001b[0mPython\u001b[0m\u001b[0;34m.\u001b[0m\u001b[0mNewton_F\u001b[0m \u001b[0;32mimport\u001b[0m \u001b[0mNewton_F\u001b[0m\u001b[0;34m\u001b[0m\u001b[0;34m\u001b[0m\u001b[0m\n\u001b[0;32m----> 2\u001b[0;31m \u001b[0mNewton_F\u001b[0m\u001b[0;34m(\u001b[0m\u001b[0moraclePH\u001b[0m\u001b[0;34m,\u001b[0m \u001b[0mnp\u001b[0m\u001b[0;34m.\u001b[0m\u001b[0mzeros\u001b[0m\u001b[0;34m(\u001b[0m\u001b[0mn\u001b[0m \u001b[0;34m-\u001b[0m \u001b[0mmd\u001b[0m\u001b[0;34m)\u001b[0m\u001b[0;34m)\u001b[0m\u001b[0;34m\u001b[0m\u001b[0;34m\u001b[0m\u001b[0m\n\u001b[0m",
      "\u001b[0;32m~/Bureau/Projets_informatiques/Distribution_d_eau/TP_OC/Python/Newton_F.py\u001b[0m in \u001b[0;36mNewton_F\u001b[0;34m(Oracle, x0)\u001b[0m\n\u001b[1;32m     38\u001b[0m \u001b[0;34m\u001b[0m\u001b[0m\n\u001b[1;32m     39\u001b[0m         \u001b[0;31m# Valeur du critere et du gradient\u001b[0m\u001b[0;34m\u001b[0m\u001b[0;34m\u001b[0m\u001b[0;34m\u001b[0m\u001b[0m\n\u001b[0;32m---> 40\u001b[0;31m         \u001b[0mcritere\u001b[0m\u001b[0;34m,\u001b[0m \u001b[0mgradient\u001b[0m\u001b[0;34m,\u001b[0m \u001b[0mhessien\u001b[0m \u001b[0;34m=\u001b[0m \u001b[0mOracle\u001b[0m\u001b[0;34m(\u001b[0m\u001b[0mx\u001b[0m\u001b[0;34m)\u001b[0m\u001b[0;34m\u001b[0m\u001b[0;34m\u001b[0m\u001b[0m\n\u001b[0m\u001b[1;32m     41\u001b[0m \u001b[0;34m\u001b[0m\u001b[0m\n\u001b[1;32m     42\u001b[0m         \u001b[0;31m# Test de convergence\u001b[0m\u001b[0;34m\u001b[0m\u001b[0;34m\u001b[0m\u001b[0;34m\u001b[0m\u001b[0m\n",
      "\u001b[0;32m<ipython-input-80-55f994a457b6>\u001b[0m in \u001b[0;36moraclePH\u001b[0;34m(q_c, ind)\u001b[0m\n\u001b[1;32m     11\u001b[0m         \u001b[0;32mreturn\u001b[0m \u001b[0mgrad_F\u001b[0m\u001b[0;34m(\u001b[0m\u001b[0mq_c\u001b[0m\u001b[0;34m)\u001b[0m\u001b[0;34m,\u001b[0m \u001b[0mHess_F\u001b[0m\u001b[0;34m(\u001b[0m\u001b[0mq_c\u001b[0m\u001b[0;34m)\u001b[0m\u001b[0;34m\u001b[0m\u001b[0;34m\u001b[0m\u001b[0m\n\u001b[1;32m     12\u001b[0m     \u001b[0;32melif\u001b[0m \u001b[0mind\u001b[0m \u001b[0;34m==\u001b[0m \u001b[0;36m7\u001b[0m\u001b[0;34m:\u001b[0m\u001b[0;34m\u001b[0m\u001b[0;34m\u001b[0m\u001b[0m\n\u001b[0;32m---> 13\u001b[0;31m         \u001b[0;32mreturn\u001b[0m \u001b[0mF\u001b[0m\u001b[0;34m(\u001b[0m\u001b[0mq_c\u001b[0m\u001b[0;34m)\u001b[0m\u001b[0;34m,\u001b[0m \u001b[0mgrad_F\u001b[0m\u001b[0;34m(\u001b[0m\u001b[0mq_c\u001b[0m\u001b[0;34m)\u001b[0m\u001b[0;34m,\u001b[0m \u001b[0mHess_F\u001b[0m\u001b[0;34m(\u001b[0m\u001b[0mq_c\u001b[0m\u001b[0;34m)\u001b[0m\u001b[0;34m\u001b[0m\u001b[0;34m\u001b[0m\u001b[0m\n\u001b[0m",
      "\u001b[0;32m<ipython-input-77-14271cef1685>\u001b[0m in \u001b[0;36mHess_F\u001b[0;34m(q_c)\u001b[0m\n\u001b[1;32m      5\u001b[0m                         \u001b[0mnp\u001b[0m\u001b[0;34m.\u001b[0m\u001b[0mtranspose\u001b[0m\u001b[0;34m(\u001b[0m\u001b[0mB\u001b[0m\u001b[0;34m)\u001b[0m\u001b[0;34m,\u001b[0m\u001b[0;34m\u001b[0m\u001b[0;34m\u001b[0m\u001b[0m\n\u001b[1;32m      6\u001b[0m                         \u001b[0mnp\u001b[0m\u001b[0;34m.\u001b[0m\u001b[0mdiag\u001b[0m\u001b[0;34m(\u001b[0m\u001b[0mnp\u001b[0m\u001b[0;34m.\u001b[0m\u001b[0mdiag\u001b[0m\u001b[0;34m(\u001b[0m\u001b[0mr\u001b[0m \u001b[0;34m*\u001b[0m \u001b[0mabs\u001b[0m\u001b[0;34m(\u001b[0m\u001b[0mQ\u001b[0m\u001b[0;34m)\u001b[0m\u001b[0;34m)\u001b[0m\u001b[0;34m)\u001b[0m\u001b[0;34m,\u001b[0m\u001b[0;34m\u001b[0m\u001b[0;34m\u001b[0m\u001b[0m\n\u001b[0;32m----> 7\u001b[0;31m                     B)\n\u001b[0m\u001b[1;32m      8\u001b[0m     )\n",
      "\u001b[0;32m<__array_function__ internals>\u001b[0m in \u001b[0;36mdot\u001b[0;34m(*args, **kwargs)\u001b[0m\n",
      "\u001b[0;31mValueError\u001b[0m: output array is not acceptable (must have the right datatype, number of dimensions, and be a C-Array)"
     ]
    }
   ],
   "source": [
    "from TP_OC.Python.Newton_F import Newton_F\n",
    "Newton_F(oraclePH, np.zeros(n - md))"
   ]
  },
  {
   "cell_type": "code",
   "execution_count": null,
   "metadata": {},
   "outputs": [],
   "source": []
  }
 ],
 "metadata": {
  "kernelspec": {
   "display_name": "Python 3",
   "language": "python",
   "name": "python3"
  },
  "language_info": {
   "codemirror_mode": {
    "name": "ipython",
    "version": 3
   },
   "file_extension": ".py",
   "mimetype": "text/x-python",
   "name": "python",
   "nbconvert_exporter": "python",
   "pygments_lexer": "ipython3",
   "version": "3.6.9"
  }
 },
 "nbformat": 4,
 "nbformat_minor": 2
}
