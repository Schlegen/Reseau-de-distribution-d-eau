{
 "cells": [
  {
   "cell_type": "markdown",
   "metadata": {},
   "source": [
    "# Determiner la distribution d'un réseau d'eau"
   ]
  },
  {
   "cell_type": "code",
   "execution_count": 38,
   "metadata": {},
   "outputs": [],
   "source": [
    "import numpy as np\n",
    "\n",
    "# Import des données du problème\n",
    "from TP_OC.Python.Probleme_R import n, m, mr, md, orig, dest, absn, ordn, r, pr, fd\n",
    "from TP_OC.Python.Structures_N import Ar, Ad, AdT, AdI, AdC, B, q0"
   ]
  },
  {
   "cell_type": "markdown",
   "metadata": {},
   "source": [
    "On remarque que dans la fonction à minimser, $q_c$ n'apparait que dans des structures de la forme $q^{(0)}+Bq_c$ donc on pose $ Q = q^{(0)} + Bq_c$"
   ]
  },
  {
   "cell_type": "code",
   "execution_count": null,
   "metadata": {},
   "outputs": [],
   "source": [
    "def F(q):\n",
    "    Q = q0 + np.dot(B, q)\n",
    "    \n",
    "    return (1/3)* np.dot( \n",
    "        Q,\n",
    "        \n",
    "    )\n"
   ]
  }
 ],
 "metadata": {
  "kernelspec": {
   "display_name": "Python 3",
   "language": "python",
   "name": "python3"
  },
  "language_info": {
   "codemirror_mode": {
    "name": "ipython",
    "version": 3
   },
   "file_extension": ".py",
   "mimetype": "text/x-python",
   "name": "python",
   "nbconvert_exporter": "python",
   "pygments_lexer": "ipython3",
   "version": "3.6.9"
  }
 },
 "nbformat": 4,
 "nbformat_minor": 2
}
